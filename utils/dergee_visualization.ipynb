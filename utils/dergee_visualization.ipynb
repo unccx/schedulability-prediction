{
 "cells": [
  {
   "cell_type": "code",
   "execution_count": 4,
   "metadata": {},
   "outputs": [
    {
     "ename": "ModuleNotFoundError",
     "evalue": "No module named 'data'",
     "output_type": "error",
     "traceback": [
      "\u001b[0;31m---------------------------------------------------------------------------\u001b[0m",
      "\u001b[0;31mModuleNotFoundError\u001b[0m                       Traceback (most recent call last)",
      "Cell \u001b[0;32mIn[4], line 4\u001b[0m\n\u001b[1;32m      1\u001b[0m \u001b[38;5;28;01mimport\u001b[39;00m \u001b[38;5;21;01mtime\u001b[39;00m\n\u001b[1;32m      2\u001b[0m \u001b[38;5;28;01mfrom\u001b[39;00m \u001b[38;5;21;01mcopy\u001b[39;00m \u001b[38;5;28;01mimport\u001b[39;00m deepcopy\n\u001b[0;32m----> 4\u001b[0m \u001b[38;5;28;01mfrom\u001b[39;00m \u001b[38;5;21;01mutils\u001b[39;00m \u001b[38;5;28;01mimport\u001b[39;00m \u001b[38;5;241m*\u001b[39m\n\u001b[1;32m      5\u001b[0m get_ipython()\u001b[38;5;241m.\u001b[39mrun_line_magic(\u001b[38;5;124m'\u001b[39m\u001b[38;5;124mmatplotlib\u001b[39m\u001b[38;5;124m'\u001b[39m, \u001b[38;5;124m'\u001b[39m\u001b[38;5;124minline\u001b[39m\u001b[38;5;124m'\u001b[39m)\n\u001b[1;32m      6\u001b[0m get_ipython()\u001b[38;5;241m.\u001b[39mrun_line_magic(\u001b[38;5;124m'\u001b[39m\u001b[38;5;124mconfig\u001b[39m\u001b[38;5;124m'\u001b[39m, \u001b[38;5;124m\"\u001b[39m\u001b[38;5;124mInlineBackend.figure_format = \u001b[39m\u001b[38;5;124m'\u001b[39m\u001b[38;5;124msvg\u001b[39m\u001b[38;5;124m'\u001b[39m\u001b[38;5;124m\"\u001b[39m)\n",
      "File \u001b[0;32m~/Development/schedulability-prediction/utils/utils.py:8\u001b[0m\n\u001b[1;32m      5\u001b[0m \u001b[38;5;28;01mimport\u001b[39;00m \u001b[38;5;21;01mtorch\u001b[39;00m\n\u001b[1;32m      6\u001b[0m \u001b[38;5;28;01mfrom\u001b[39;00m \u001b[38;5;21;01mdhg\u001b[39;00m \u001b[38;5;28;01mimport\u001b[39;00m Hypergraph\n\u001b[0;32m----> 8\u001b[0m \u001b[38;5;28;01mfrom\u001b[39;00m \u001b[38;5;21;01mdata\u001b[39;00m\u001b[38;5;21;01m.\u001b[39;00m\u001b[38;5;21;01mdataset\u001b[39;00m \u001b[38;5;28;01mimport\u001b[39;00m LinkPredictDataset\n\u001b[1;32m     11\u001b[0m \u001b[38;5;28;01mdef\u001b[39;00m \u001b[38;5;21mcalculate_sparsity\u001b[39m(matrix):\n\u001b[1;32m     12\u001b[0m     nonzero_elements \u001b[38;5;241m=\u001b[39m np\u001b[38;5;241m.\u001b[39mcount_nonzero(matrix)\n",
      "\u001b[0;31mModuleNotFoundError\u001b[0m: No module named 'data'"
     ]
    }
   ],
   "source": [
    "import time\n",
    "from copy import deepcopy\n",
    "\n",
    "from utils import *\n",
    "%matplotlib inline\n",
    "%config InlineBackend.figure_format = 'svg'\n",
    "from ..data.dataset import LinkPredictDataset\n",
    "from pathlib import Path\n",
    "from dhg import Hypergraph"
   ]
  },
  {
   "cell_type": "code",
   "execution_count": 5,
   "metadata": {},
   "outputs": [
    {
     "name": "stdout",
     "output_type": "stream",
     "text": [
      "CUDA 版本号: 12.4\n",
      "可用的 CUDA 设备数量: 1\n",
      "当前 CUDA 设备名称: NVIDIA GeForce RTX 4090\n"
     ]
    }
   ],
   "source": [
    "import torch\n",
    "\n",
    "# 检查是否有可用的 CUDA 设备\n",
    "if torch.cuda.is_available():\n",
    "    # 打印 CUDA 版本号\n",
    "    print(\"CUDA 版本号:\", torch.version.cuda)\n",
    "    # 打印可用的 CUDA 设备数量\n",
    "    print(\"可用的 CUDA 设备数量:\", torch.cuda.device_count())\n",
    "    # 打印当前 CUDA 设备的名称\n",
    "    print(\"当前 CUDA 设备名称:\", torch.cuda.get_device_name(0))\n",
    "else:\n",
    "    print(\"CUDA 不可用\")"
   ]
  },
  {
   "cell_type": "code",
   "execution_count": 7,
   "metadata": {},
   "outputs": [
    {
     "ename": "ImportError",
     "evalue": "attempted relative import with no known parent package",
     "output_type": "error",
     "traceback": [
      "\u001b[0;31m---------------------------------------------------------------------------\u001b[0m",
      "\u001b[0;31mImportError\u001b[0m                               Traceback (most recent call last)",
      "Cell \u001b[0;32mIn[7], line 1\u001b[0m\n\u001b[0;32m----> 1\u001b[0m \u001b[38;5;28;01mfrom\u001b[39;00m \u001b[38;5;21;01m.\u001b[39;00m\u001b[38;5;21;01m.\u001b[39;00m\u001b[38;5;21;01mdata\u001b[39;00m\u001b[38;5;21;01m.\u001b[39;00m\u001b[38;5;21;01mdataset\u001b[39;00m \u001b[38;5;28;01mimport\u001b[39;00m LinkPredictDataset\n\u001b[1;32m      3\u001b[0m msg_pass_ratio: \u001b[38;5;28mfloat\u001b[39m \u001b[38;5;241m=\u001b[39m \u001b[38;5;241m0.7\u001b[39m\n\u001b[1;32m      5\u001b[0m val_data \u001b[38;5;241m=\u001b[39m LinkPredictDataset(\n\u001b[1;32m      6\u001b[0m     dataset_path\u001b[38;5;241m=\u001b[39m\u001b[38;5;124m\"\u001b[39m\u001b[38;5;124mdata/data/2024-11-30_15-04-23\u001b[39m\u001b[38;5;124m\"\u001b[39m,\n\u001b[1;32m      7\u001b[0m     msgpass_ratio\u001b[38;5;241m=\u001b[39mmsg_pass_ratio,\n\u001b[1;32m      8\u001b[0m )\n",
      "\u001b[0;31mImportError\u001b[0m: attempted relative import with no known parent package"
     ]
    }
   ],
   "source": [
    "from ..data.dataset import LinkPredictDataset\n",
    "\n",
    "msg_pass_ratio: float = 0.7\n",
    "\n",
    "val_data = LinkPredictDataset(\n",
    "    dataset_path=\"data/data/2024-11-30_15-04-23\",\n",
    "    msgpass_ratio=msg_pass_ratio,\n",
    ")"
   ]
  },
  {
   "cell_type": "code",
   "execution_count": 3,
   "metadata": {},
   "outputs": [
    {
     "ename": "OperationalError",
     "evalue": "unable to open database file",
     "output_type": "error",
     "traceback": [
      "\u001b[0;31m---------------------------------------------------------------------------\u001b[0m",
      "\u001b[0;31mOperationalError\u001b[0m                          Traceback (most recent call last)",
      "Cell \u001b[0;32mIn[3], line 4\u001b[0m\n\u001b[1;32m      1\u001b[0m \u001b[38;5;28;01mfrom\u001b[39;00m \u001b[38;5;21;01msimrt\u001b[39;00m\u001b[38;5;21;01m.\u001b[39;00m\u001b[38;5;21;01mutils\u001b[39;00m\u001b[38;5;21;01m.\u001b[39;00m\u001b[38;5;21;01mtask_storage\u001b[39;00m \u001b[38;5;28;01mimport\u001b[39;00m TaskStorage\n\u001b[1;32m      2\u001b[0m \u001b[38;5;28;01mfrom\u001b[39;00m \u001b[38;5;21;01mpathlib\u001b[39;00m \u001b[38;5;28;01mimport\u001b[39;00m Path\n\u001b[0;32m----> 4\u001b[0m task_db \u001b[38;5;241m=\u001b[39m \u001b[43mTaskStorage\u001b[49m\u001b[43m(\u001b[49m\u001b[43mPath\u001b[49m\u001b[43m(\u001b[49m\u001b[38;5;124;43m\"\u001b[39;49m\u001b[38;5;124;43mdata/data/2024-11-29_22-59-06\u001b[39;49m\u001b[38;5;124;43m\"\u001b[39;49m\u001b[43m)\u001b[49m\u001b[43m)\u001b[49m\n\u001b[1;32m      5\u001b[0m utilization_distribution \u001b[38;5;241m=\u001b[39m []\n\u001b[1;32m      6\u001b[0m \u001b[38;5;28;01mfor\u001b[39;00m l, r \u001b[38;5;129;01min\u001b[39;00m \u001b[38;5;28mzip\u001b[39m(\u001b[38;5;28mrange\u001b[39m(\u001b[38;5;241m0\u001b[39m, \u001b[38;5;241m10\u001b[39m), \u001b[38;5;28mrange\u001b[39m(\u001b[38;5;241m1\u001b[39m, \u001b[38;5;241m11\u001b[39m)):\n",
      "File \u001b[0;32m~/Development/schedulability-prediction/.venv/lib/python3.12/site-packages/simrt/utils/task_storage.py:20\u001b[0m, in \u001b[0;36mTaskStorage.__init__\u001b[0;34m(self, db_name)\u001b[0m\n\u001b[1;32m     19\u001b[0m \u001b[38;5;28;01mdef\u001b[39;00m \u001b[38;5;21m__init__\u001b[39m(\u001b[38;5;28mself\u001b[39m, db_name: Path):\n\u001b[0;32m---> 20\u001b[0m     \u001b[38;5;28mself\u001b[39m\u001b[38;5;241m.\u001b[39mconn \u001b[38;5;241m=\u001b[39m \u001b[43msqlite3\u001b[49m\u001b[38;5;241;43m.\u001b[39;49m\u001b[43mconnect\u001b[49m\u001b[43m(\u001b[49m\u001b[43mdb_name\u001b[49m\u001b[43m,\u001b[49m\u001b[43m \u001b[49m\u001b[43mtimeout\u001b[49m\u001b[38;5;241;43m=\u001b[39;49m\u001b[38;5;241;43m60.0\u001b[39;49m\u001b[43m)\u001b[49m\n\u001b[1;32m     21\u001b[0m     \u001b[38;5;28mself\u001b[39m\u001b[38;5;241m.\u001b[39mcursor \u001b[38;5;241m=\u001b[39m \u001b[38;5;28mself\u001b[39m\u001b[38;5;241m.\u001b[39mconn\u001b[38;5;241m.\u001b[39mcursor()\n\u001b[1;32m     22\u001b[0m     \u001b[38;5;28mself\u001b[39m\u001b[38;5;241m.\u001b[39mcreate_tables()\n",
      "\u001b[0;31mOperationalError\u001b[0m: unable to open database file"
     ]
    }
   ],
   "source": [
    "from simrt.utils.task_storage import TaskStorage\n",
    "from pathlib import Path\n",
    "\n",
    "task_db = TaskStorage(Path(\"data/data/2024-11-29_22-59-06\"))\n",
    "utilization_distribution = []\n",
    "for l, r in zip(range(0, 10), range(1, 11)):\n",
    "    count = task_db.count_tasksets_in_utilization_range(l * 0.1, r * 0.1)\n",
    "    utilization_distribution.append(count)\n",
    "\n",
    "\n",
    "sufficient_distribution = []\n",
    "for l, r in zip(range(0, 10), range(1, 11)):\n",
    "    count = task_db.count_tasksets_in_utilization_range(\n",
    "        l * 0.1, r * 0.1, sufficient=True\n",
    "    )\n",
    "    sufficient_distribution.append(count)\n",
    "print(\n",
    "    f\"sufficient_distribution: {[x / y for x, y in zip(sufficient_distribution, utilization_distribution)]}\"\n",
    ")\n",
    "schedulable_distribution = []\n",
    "for l, r in zip(range(0, 10), range(1, 11)):\n",
    "    count = task_db.count_tasksets_in_utilization_range(\n",
    "        l * 0.1, r * 0.1, is_schedulable=True\n",
    "    )\n",
    "    schedulable_distribution.append(count)\n",
    "print(\n",
    "    f\"schedulable_distribution: {[x / y for x, y in zip(schedulable_distribution, utilization_distribution)]}\"\n",
    ")"
   ]
  },
  {
   "cell_type": "code",
   "execution_count": null,
   "metadata": {},
   "outputs": [],
   "source": [
    "print(f\"original_hg : {zero_dergee_num(data_set.schedulable_hg)}\")\n",
    "print(f\"msg_pass_hg : {zero_dergee_num(data_set.msg_pass_hg)}\")\n",
    "print(f\"pos_hg : {zero_dergee_num(data_set.pos_hg)}\")\n",
    "print(f\"neg_hg : {zero_dergee_num(data_set.neg_hg)}\")"
   ]
  },
  {
   "cell_type": "code",
   "execution_count": null,
   "metadata": {},
   "outputs": [],
   "source": [
    "plot_dergee_utilization(data_set.schedulable_hg, r\"$G_4$ Degree-Utilization\")"
   ]
  },
  {
   "cell_type": "code",
   "execution_count": null,
   "metadata": {},
   "outputs": [],
   "source": [
    "plot_dergee_utilization(data_set.msg_pass_hg)"
   ]
  },
  {
   "cell_type": "code",
   "execution_count": null,
   "metadata": {},
   "outputs": [],
   "source": [
    "plot_dergee_utilization(data_set.pos_hg)"
   ]
  },
  {
   "cell_type": "code",
   "execution_count": null,
   "metadata": {},
   "outputs": [],
   "source": [
    "plot_dergee_utilization(data_set.neg_hg)"
   ]
  },
  {
   "cell_type": "code",
   "execution_count": null,
   "metadata": {},
   "outputs": [],
   "source": [
    "import matplotlib.pyplot as plt\n",
    "import numpy as np\n",
    "\n",
    "# plt.rc(\"font\", family=\"Times New Roman\")\n",
    "data1 = [58, 20, 38, 17, 16, 8, 16, 8]\n",
    "data2 = [5, 41, 23, 51, 2, 10, 8, 11]\n",
    "data3 = [30, 50, 12, 25, 23, 22, 23, 20]\n",
    "data4 = [40, 10, 20, 3, 10, 30, 20, 30]\n",
    "fig, ax = plt.subplots()\n",
    "index = np.arange(1, len(data1) + 1, dtype=np.int32)\n",
    "ax.set_xlim(0, 1)\n",
    "ax.set_ylim(0, 60)\n",
    "ax.spines[\"right\"].set_visible(False)\n",
    "ax.spines[\"top\"].set_visible(False)\n",
    "ax.spines[\"bottom\"].set_linewidth(2)\n",
    "ax.spines[\"left\"].set_linewidth(2)\n",
    "linewidth = 2\n",
    "markersize = 6\n",
    "ax.plot(\n",
    "    index,\n",
    "    data1,\n",
    "    c=\"navy\",\n",
    "    marker=\"v\",\n",
    "    linewidth=linewidth,\n",
    "    markersize=markersize,\n",
    "    label=\"Sample-1\",\n",
    ")\n",
    "ax.plot(\n",
    "    index,\n",
    "    data2,\n",
    "    c=\"gold\",\n",
    "    marker=\"o\",\n",
    "    linewidth=linewidth,\n",
    "    markersize=markersize,\n",
    "    label=\"Sample-2\",\n",
    ")\n",
    "ax.plot(\n",
    "    index,\n",
    "    data3,\n",
    "    c=\"firebrick\",\n",
    "    marker=\"^\",\n",
    "    linewidth=linewidth,\n",
    "    markersize=markersize,\n",
    "    label=\"Sample-3\",\n",
    ")\n",
    "ax.plot(\n",
    "    index,\n",
    "    data4,\n",
    "    c=\"olivedrab\",\n",
    "    marker=\"s\",\n",
    "    linewidth=linewidth,\n",
    "    markersize=markersize,\n",
    "    label=\"Sample-4\",\n",
    ")\n",
    "ax.tick_params(labelsize=12)\n",
    "ax.grid(axis=\"y\", ls=\"--\")\n",
    "ax.set_yticks([0, 20, 40, 60], [str(i) for i in [0, 20, 40, 60]])\n",
    "ax.legend(fontsize=10, edgecolor=\"black\")\n",
    "ax.set_xlabel(\"X\", fontsize=13)\n",
    "ax.set_ylabel(\"Y\", fontsize=13)\n",
    "ax.set_title(\"Title\", fontsize=12, fontweight=\"bold\")\n",
    "# plt.savefig()\n",
    "plt.show()"
   ]
  }
 ],
 "metadata": {
  "kernelspec": {
   "display_name": ".venv",
   "language": "python",
   "name": "python3"
  },
  "language_info": {
   "codemirror_mode": {
    "name": "ipython",
    "version": 3
   },
   "file_extension": ".py",
   "mimetype": "text/x-python",
   "name": "python",
   "nbconvert_exporter": "python",
   "pygments_lexer": "ipython3",
   "version": "3.12.7"
  },
  "orig_nbformat": 4
 },
 "nbformat": 4,
 "nbformat_minor": 2
}
