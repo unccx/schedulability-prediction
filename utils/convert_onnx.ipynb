{
 "cells": [
  {
   "cell_type": "code",
   "execution_count": 1,
   "metadata": {},
   "outputs": [],
   "source": [
    "import torch\n",
    "import torch.nn as nn\n",
    "import torch.onnx\n",
    "\n",
    "\n",
    "def convert_onnx(dummy_input, model: nn.Module, save_path: str = \"./model.onnx\"):\n",
    "    model.eval()\n",
    "\n",
    "    torch.onnx.export(\n",
    "        model,  # model being run\n",
    "        dummy_input,  # model input (or a tuple for multiple inputs)\n",
    "        save_path,  # where to save the model\n",
    "        export_params=True,  # store the trained parameter weights inside the model file\n",
    "        opset_version=15,  # the ONNX version to export the model to\n",
    "        do_constant_folding=True,  # whether to execute constant folding for optimization\n",
    "        input_names=[\"X\", \"H\"],  # the model's input names\n",
    "        output_names=[\"Score\"],  # the model's output names\n",
    "        dynamic_axes={\n",
    "            \"X\": {0: \"v_num\", 1: \"v_channel\"},  # variable length axes\n",
    "            \"H\": {0: \"v_num\", 1: \"e_num\"},\n",
    "            \"Score\": {0: \"v_num\"},\n",
    "        },\n",
    "    )"
   ]
  },
  {
   "cell_type": "code",
   "execution_count": null,
   "metadata": {},
   "outputs": [
    {
     "name": "stdout",
     "output_type": "stream",
     "text": [
      "SchedulabilityPredictor(\n",
      "  (hgconv1): HGConv(\n",
      "    (theta): Linear(in_features=10, out_features=20, bias=True)\n",
      "    (v2e_msg_pass): V2EMsgPass(\n",
      "      (dropout_layer): Dropout(p=0.5, inplace=False)\n",
      "    )\n",
      "    (e2v_msg_pass): E2VMsgPass(\n",
      "      (dropout_layer): Dropout(p=0.5, inplace=False)\n",
      "    )\n",
      "    (bn): BatchNorm1d(20, eps=1e-05, momentum=0.1, affine=True, track_running_stats=True)\n",
      "    (act): ReLU(inplace=True)\n",
      "    (drop): Dropout(p=0.5, inplace=False)\n",
      "  )\n",
      "  (hgconv2): HGConv(\n",
      "    (theta): Linear(in_features=20, out_features=10, bias=True)\n",
      "    (v2e_msg_pass): V2EMsgPass(\n",
      "      (dropout_layer): Dropout(p=0.5, inplace=False)\n",
      "    )\n",
      "    (e2v_msg_pass): E2VMsgPass(\n",
      "      (dropout_layer): Dropout(p=0.5, inplace=False)\n",
      "    )\n",
      "    (bn): BatchNorm1d(10, eps=1e-05, momentum=0.1, affine=True, track_running_stats=True)\n",
      "    (act): ReLU(inplace=True)\n",
      "    (drop): Dropout(p=0.5, inplace=False)\n",
      "  )\n",
      "  (v2e_msg_pass): V2EMsgPass(\n",
      "    (dropout_layer): Dropout(p=0.0, inplace=False)\n",
      "  )\n",
      "  (predictor): Sequential(\n",
      "    (0): Linear(in_features=10, out_features=1, bias=True)\n",
      "    (1): Sigmoid()\n",
      "  )\n",
      ")\n"
     ]
    }
   ],
   "source": [
    "from ..models import HGNNPSchedulabilityPredictor\n",
    "\n",
    "net = HGNNPSchedulabilityPredictor(10, 20, 10, use_bn=True)\n",
    "print(net)"
   ]
  },
  {
   "cell_type": "code",
   "execution_count": 3,
   "metadata": {},
   "outputs": [
    {
     "name": "stderr",
     "output_type": "stream",
     "text": [
      "/home/polyarc/Development/schedulability-prediction/model.py:18: TracerWarning: Using len to get tensor shape might cause the trace to be incorrect. Recommended usage would be tensor.shape[0]. Passing a tensor of different shape might lead to errors or silently give incorrect results.\n",
      "  diag_matrix = x.unsqueeze(1) * torch.eye(len(x)).to(x.device)\n"
     ]
    }
   ],
   "source": [
    "X = torch.randn(5, 10, requires_grad=True)\n",
    "H = torch.randn(5, 4, requires_grad=True)\n",
    "\n",
    "convert_onnx((X, H), net, \"./net2.pth\")"
   ]
  },
  {
   "cell_type": "code",
   "execution_count": 4,
   "metadata": {},
   "outputs": [],
   "source": [
    "# from torch.quantization import quantize_dynamic\n",
    "\n",
    "# quantized_net = quantize_dynamic(model=net)\n",
    "# print(quantized_net)\n",
    "# torch.save(quantized_net, \"./quantized_net.pth\")"
   ]
  }
 ],
 "metadata": {
  "kernelspec": {
   "display_name": ".venv",
   "language": "python",
   "name": "python3"
  },
  "language_info": {
   "codemirror_mode": {
    "name": "ipython",
    "version": 3
   },
   "file_extension": ".py",
   "mimetype": "text/x-python",
   "name": "python",
   "nbconvert_exporter": "python",
   "pygments_lexer": "ipython3",
   "version": "3.12.7"
  }
 },
 "nbformat": 4,
 "nbformat_minor": 2
}
