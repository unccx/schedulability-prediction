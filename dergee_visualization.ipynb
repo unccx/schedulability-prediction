{
 "cells": [
  {
   "cell_type": "code",
   "execution_count": null,
   "metadata": {},
   "outputs": [],
   "source": [
    "import time\n",
    "from copy import deepcopy\n",
    "\n",
    "from utils import *\n",
    "%matplotlib inline\n",
    "%config InlineBackend.figure_format = 'svg'\n",
    "from data import LinkPredictDataset\n",
    "from pathlib import Path\n",
    "from simRT.utils import TaskStorage\n",
    "from dhg import Hypergraph"
   ]
  },
  {
   "cell_type": "code",
   "execution_count": null,
   "metadata": {},
   "outputs": [],
   "source": [
    "import torch\n",
    "\n",
    "# 检查是否有可用的 CUDA 设备\n",
    "if torch.cuda.is_available():\n",
    "    # 打印 CUDA 版本号\n",
    "    print(\"CUDA 版本号:\", torch.version.cuda)\n",
    "    # 打印可用的 CUDA 设备数量\n",
    "    print(\"可用的 CUDA 设备数量:\", torch.cuda.device_count())\n",
    "    # 打印当前 CUDA 设备的名称\n",
    "    print(\"当前 CUDA 设备名称:\", torch.cuda.get_device_name(0))\n",
    "else:\n",
    "    print(\"CUDA 不可用\")"
   ]
  },
  {
   "cell_type": "code",
   "execution_count": null,
   "metadata": {},
   "outputs": [],
   "source": [
    "msg_pass_ratio: float = 0.7\n",
    "\n",
    "\n",
    "data_set = LinkPredictDataset(\n",
    "    dataset_name=\"2024-03-31_10-43-46\",\n",
    "    root_dir=Path(\"../simRT/data\"),\n",
    "    ratio=(msg_pass_ratio, 1 - msg_pass_ratio),\n",
    "    # device=torch.device(\"cpu\"),\n",
    ")"
   ]
  },
  {
   "cell_type": "code",
   "execution_count": null,
   "metadata": {},
   "outputs": [],
   "source": [
    "task_db = TaskStorage(Path(\"../simRT/data/2024-03-31_10-43-46/data.sqlite\"))\n",
    "utilization_distribution = []\n",
    "for l, r in zip(range(0, 10), range(1, 11)):\n",
    "    count = task_db.count_tasksets_in_utilization_range(l * 0.1, r * 0.1)\n",
    "    utilization_distribution.append(count)\n",
    "\n",
    "sufficient_distribution = []\n",
    "for l, r in zip(range(0, 10), range(1, 11)):\n",
    "    count = task_db.count_tasksets_in_utilization_range(\n",
    "        l * 0.1, r * 0.1, sufficient=True\n",
    "    )\n",
    "    sufficient_distribution.append(count)\n",
    "\n",
    "print([x / y for x, y in zip(sufficient_distribution, utilization_distribution)])"
   ]
  },
  {
   "cell_type": "code",
   "execution_count": null,
   "metadata": {},
   "outputs": [],
   "source": [
    "print(f\"original_hg : {zero_dergee_num(data_set.schedulable_hg)}\")\n",
    "print(f\"msg_pass_hg : {zero_dergee_num(data_set.msg_pass_hg)}\")\n",
    "print(f\"pos_hg : {zero_dergee_num(data_set.pos_hg)}\")\n",
    "print(f\"neg_hg : {zero_dergee_num(data_set.neg_hg)}\")"
   ]
  },
  {
   "cell_type": "code",
   "execution_count": null,
   "metadata": {},
   "outputs": [],
   "source": [
    "plot_dergee_utilization(data_set.schedulable_hg, r\"$G_4$ Degree-Utilization\")"
   ]
  },
  {
   "cell_type": "code",
   "execution_count": null,
   "metadata": {},
   "outputs": [],
   "source": [
    "plot_dergee_utilization(data_set.msg_pass_hg)"
   ]
  },
  {
   "cell_type": "code",
   "execution_count": null,
   "metadata": {},
   "outputs": [],
   "source": [
    "plot_dergee_utilization(data_set.pos_hg)"
   ]
  },
  {
   "cell_type": "code",
   "execution_count": null,
   "metadata": {},
   "outputs": [],
   "source": [
    "plot_dergee_utilization(data_set.neg_hg)"
   ]
  },
  {
   "cell_type": "code",
   "execution_count": null,
   "metadata": {},
   "outputs": [],
   "source": [
    "import matplotlib.pyplot as plt\n",
    "import numpy as np\n",
    "\n",
    "plt.rc(\"font\", family=\"Times New Roman\")\n",
    "data1 = [58, 20, 38, 17, 16, 8, 16, 8]\n",
    "data2 = [5, 41, 23, 51, 2, 10, 8, 11]\n",
    "data3 = [30, 50, 12, 25, 23, 22, 23, 20]\n",
    "data4 = [40, 10, 20, 3, 10, 30, 20, 30]\n",
    "fig, ax = plt.subplots()\n",
    "index = np.arange(1, len(data1) + 1, dtype=np.int32)\n",
    "ax.set_xlim(0, 1)\n",
    "ax.set_ylim(0, 60)\n",
    "ax.spines[\"right\"].set_visible(False)\n",
    "ax.spines[\"top\"].set_visible(False)\n",
    "ax.spines[\"bottom\"].set_linewidth(2)\n",
    "ax.spines[\"left\"].set_linewidth(2)\n",
    "linewidth = 2\n",
    "markersize = 6\n",
    "ax.plot(\n",
    "    index,\n",
    "    data1,\n",
    "    c=\"navy\",\n",
    "    marker=\"v\",\n",
    "    linewidth=linewidth,\n",
    "    markersize=markersize,\n",
    "    label=\"Sample-1\",\n",
    ")\n",
    "ax.plot(\n",
    "    index,\n",
    "    data2,\n",
    "    c=\"gold\",\n",
    "    marker=\"o\",\n",
    "    linewidth=linewidth,\n",
    "    markersize=markersize,\n",
    "    label=\"Sample-2\",\n",
    ")\n",
    "ax.plot(\n",
    "    index,\n",
    "    data3,\n",
    "    c=\"firebrick\",\n",
    "    marker=\"^\",\n",
    "    linewidth=linewidth,\n",
    "    markersize=markersize,\n",
    "    label=\"Sample-3\",\n",
    ")\n",
    "ax.plot(\n",
    "    index,\n",
    "    data4,\n",
    "    c=\"olivedrab\",\n",
    "    marker=\"s\",\n",
    "    linewidth=linewidth,\n",
    "    markersize=markersize,\n",
    "    label=\"Sample-4\",\n",
    ")\n",
    "ax.tick_params(labelsize=12)\n",
    "ax.grid(axis=\"y\", ls=\"--\")\n",
    "ax.set_yticks([0, 20, 40, 60], [str(i) for i in [0, 20, 40, 60]])\n",
    "ax.legend(fontsize=10, edgecolor=\"black\")\n",
    "ax.set_xlabel(\"X\", fontsize=13)\n",
    "ax.set_ylabel(\"Y\", fontsize=13)\n",
    "ax.set_title(\"Title\", fontsize=12, fontweight=\"bold\")\n",
    "# plt.savefig()\n",
    "plt.show()"
   ]
  }
 ],
 "metadata": {
  "kernelspec": {
   "display_name": "DHG",
   "language": "python",
   "name": "python3"
  },
  "language_info": {
   "codemirror_mode": {
    "name": "ipython",
    "version": 3
   },
   "file_extension": ".py",
   "mimetype": "text/x-python",
   "name": "python",
   "nbconvert_exporter": "python",
   "pygments_lexer": "ipython3",
   "version": "3.12.2"
  },
  "orig_nbformat": 4
 },
 "nbformat": 4,
 "nbformat_minor": 2
}
