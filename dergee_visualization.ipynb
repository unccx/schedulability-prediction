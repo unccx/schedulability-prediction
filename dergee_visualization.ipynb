{
 "cells": [
  {
   "cell_type": "code",
   "execution_count": null,
   "metadata": {},
   "outputs": [],
   "source": [
    "import sys\n",
    "sys.path.append(\"../DeepHypergraph/\") "
   ]
  },
  {
   "cell_type": "code",
   "execution_count": null,
   "metadata": {},
   "outputs": [],
   "source": [
    "import time\n",
    "from copy import deepcopy\n",
    "\n",
    "from utils import *\n",
    "from data import LinkPredictDataset\n",
    "\n",
    "from dhg import Hypergraph"
   ]
  },
  {
   "cell_type": "code",
   "execution_count": null,
   "metadata": {},
   "outputs": [],
   "source": [
    "data_set = LinkPredictDataset(\"data_s7000_p5_t1000_hs11_e100000\", device=torch.device(\"cpu\"))\n",
    "\n",
    "portion_ratios = {\"msg_pass\":4, \"supervision_pos\":4, \"validation_pos\":1, \"test_pos\":1}\n",
    "dataset_name = \"data_s7000_p5_t1000_hs11_e100000\"\n",
    "data_set = LinkPredictDataset(dataset_name, portion=portion_ratios, phase=\"train\", device=torch.device(\"cpu\"))"
   ]
  },
  {
   "cell_type": "code",
   "execution_count": null,
   "metadata": {},
   "outputs": [],
   "source": [
    "print(f\"original_hg : {zero_dergee_num(data_set.original_hg)}\")\n",
    "print(f\"msg_pass_hg : {zero_dergee_num(data_set.msg_pass_hg)}\")\n",
    "print(f\"pos_hg : {zero_dergee_num(data_set.pos_hg)}\")\n",
    "print(f\"neg_hg : {zero_dergee_num(data_set.neg_hg)}\")"
   ]
  },
  {
   "cell_type": "code",
   "execution_count": null,
   "metadata": {},
   "outputs": [],
   "source": [
    "plot_dergee_utilization(data_set.original_hg)"
   ]
  },
  {
   "cell_type": "code",
   "execution_count": null,
   "metadata": {},
   "outputs": [],
   "source": [
    "plot_dergee_utilization(data_set.msg_pass_hg)"
   ]
  },
  {
   "cell_type": "code",
   "execution_count": null,
   "metadata": {},
   "outputs": [],
   "source": [
    "plot_dergee_utilization(data_set.pos_hg)"
   ]
  },
  {
   "cell_type": "code",
   "execution_count": null,
   "metadata": {},
   "outputs": [],
   "source": [
    "plot_dergee_utilization(data_set.neg_hg)"
   ]
  }
 ],
 "metadata": {
  "kernelspec": {
   "display_name": "DHG",
   "language": "python",
   "name": "python3"
  },
  "language_info": {
   "codemirror_mode": {
    "name": "ipython",
    "version": 3
   },
   "file_extension": ".py",
   "mimetype": "text/x-python",
   "name": "python",
   "nbconvert_exporter": "python",
   "pygments_lexer": "ipython3",
   "version": "3.10.12"
  },
  "orig_nbformat": 4
 },
 "nbformat": 4,
 "nbformat_minor": 2
}
