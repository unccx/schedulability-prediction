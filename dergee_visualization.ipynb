{
 "cells": [
  {
   "cell_type": "code",
   "execution_count": 2,
   "metadata": {},
   "outputs": [],
   "source": [
    "import sys\n",
    "sys.path.append(\"../DeepHypergraph/\") "
   ]
  },
  {
   "cell_type": "code",
   "execution_count": 3,
   "metadata": {},
   "outputs": [],
   "source": [
    "import time\n",
    "from copy import deepcopy\n",
    "\n",
    "import torch\n",
    "import torch.optim as optim\n",
    "import torch.nn.functional as F\n",
    "\n",
    "from dhg import Hypergraph\n",
    "from dhg.data import DBLP8k\n",
    "from dhg.models import HGNNPLinkPred\n",
    "from dhg.random import set_seed\n",
    "from dhg.metrics import LinkPredictionEvaluator as Evaluator"
   ]
  },
  {
   "cell_type": "code",
   "execution_count": 4,
   "metadata": {},
   "outputs": [],
   "source": [
    "def train(net, X, hypergraph, negative_hypergraph, optimizer, epoch):\n",
    "    net.train()\n",
    "\n",
    "    st = time.time()\n",
    "    optimizer.zero_grad()\n",
    "    pos_score = net(X, hypergraph)\n",
    "    neg_score = net(X, negative_hypergraph)\n",
    "\n",
    "    global device\n",
    "    scores = torch.cat([pos_score, neg_score]).squeeze()\n",
    "    labels = torch.cat(\n",
    "        [torch.ones(pos_score.shape[0]), torch.zeros(neg_score.shape[0])]\n",
    "    ).to(device)\n",
    "\n",
    "    loss = F.binary_cross_entropy_with_logits(scores, labels)\n",
    "    loss.backward()\n",
    "    optimizer.step()\n",
    "    print(f\"Epoch: {epoch}, Time: {time.time()-st:.5f}s, Loss: {loss.item():.5f}\")\n",
    "    return loss.item()"
   ]
  },
  {
   "cell_type": "code",
   "execution_count": 5,
   "metadata": {},
   "outputs": [],
   "source": [
    "@torch.no_grad()\n",
    "def infer(net, X, hypergraph, negative_hypergraph, test=False):\n",
    "    net.eval()\n",
    "    pos_score = net(X, hypergraph)\n",
    "    neg_score = net(X, negative_hypergraph)\n",
    "\n",
    "    scores = torch.cat([pos_score, neg_score]).squeeze()\n",
    "    labels = torch.cat(\n",
    "        [torch.ones(pos_score.shape[0]), torch.zeros(neg_score.shape[0])]\n",
    "    ).to(device)\n",
    "\n",
    "    global evaluator\n",
    "    if not test:\n",
    "        res = evaluator.validate(labels, scores)\n",
    "    else:\n",
    "        res = evaluator.test(labels, scores)\n",
    "    return res"
   ]
  },
  {
   "cell_type": "code",
   "execution_count": 6,
   "metadata": {},
   "outputs": [],
   "source": [
    "import csv\n",
    "from pathlib import Path\n",
    "\n",
    "def load_data(file_path: Path):\n",
    "    hyperedge_list = []\n",
    "    neg_hyperedge_list = []\n",
    "    with open(file_path / \"hyperedges.csv\", \"r\") as file:\n",
    "        reader = csv.reader(file)\n",
    "        for row in reader:\n",
    "            # 读取每个超边的顶点列表，并将它们添加到 hyperedge_list 中\n",
    "            hyperedge_list.append(row)\n",
    "    \n",
    "    hyperedge_list = [[int(v) for v in edge] for edge in hyperedge_list]\n",
    "\n",
    "    with open(file_path / \"minimal_unschedulable_combinations.csv\", \"r\") as file:\n",
    "        reader = csv.reader(file)\n",
    "        for row in reader:\n",
    "            neg_hyperedge_list.append(row) \n",
    "\n",
    "    neg_hyperedge_list = [[int(v) for v in edge] for edge in neg_hyperedge_list]\n",
    "\n",
    "    with open(file_path / \"task_quadruples.csv\", 'r') as csvfile:\n",
    "        reader = csv.reader(csvfile)\n",
    "        data = [list(map(float, row)) for row in reader]\n",
    "\n",
    "    # 将数据转换为 Tensor\n",
    "    features = torch.tensor(data)\n",
    "\n",
    "    data = {\"hyperedge_list\": hyperedge_list, \"num_edges\" : len(hyperedge_list)}\n",
    "    neg_data = {\"hyperedge_list\": neg_hyperedge_list, \"num_edges\" : len(neg_hyperedge_list)}\n",
    "\n",
    "    return {\"pos\":data, \"neg\": neg_data, \"vertices_feature\" : features, \"num_vertices\" : features.shape[0]}"
   ]
  },
  {
   "cell_type": "code",
   "execution_count": 7,
   "metadata": {},
   "outputs": [],
   "source": [
    "set_seed(2021)\n",
    "device = torch.device(\"cuda\") if torch.cuda.is_available() else torch.device(\"cpu\")\n",
    "evaluator = Evaluator([\"accuracy\", \"auc\", \"f1_score\"])\n",
    "train_data =    load_data(Path(\"../EDF/data/data_s3000_p3_t1000_hs7_e10000/\"))\n",
    "validate_data = load_data(Path(\"../EDF/data/data_s3001_p3_t1000_hs7_e10000/\"))\n",
    "test_data =     load_data(Path(\"../EDF/data/data_s3002_p3_t1000_hs7_e10000/\"))\n",
    "\n",
    "X = train_data[\"vertices_feature\"]\n",
    "HG = Hypergraph(train_data[\"num_vertices\"], train_data[\"pos\"][\"hyperedge_list\"])\n",
    "neg_HG = Hypergraph(train_data[\"num_vertices\"], train_data[\"neg\"][\"hyperedge_list\"])\n",
    "\n",
    "validate_X = validate_data[\"vertices_feature\"]\n",
    "validate_HG = Hypergraph(validate_data[\"num_vertices\"], validate_data[\"pos\"][\"hyperedge_list\"])\n",
    "validate_neg_HG = Hypergraph(validate_data[\"num_vertices\"], validate_data[\"neg\"][\"hyperedge_list\"])\n",
    "\n",
    "test_X = test_data[\"vertices_feature\"]\n",
    "test_HG = Hypergraph(test_data[\"num_vertices\"], test_data[\"pos\"][\"hyperedge_list\"])\n",
    "test_neg_HG = Hypergraph(test_data[\"num_vertices\"], test_data[\"neg\"][\"hyperedge_list\"])"
   ]
  },
  {
   "cell_type": "code",
   "execution_count": 8,
   "metadata": {},
   "outputs": [
    {
     "name": "stdout",
     "output_type": "stream",
     "text": [
      "非零元素比例：0.30%\n",
      "零元素比例：99.70%\n"
     ]
    }
   ],
   "source": [
    "import numpy as np\n",
    "\n",
    "def calculate_sparsity(matrix):\n",
    "    nonzero_elements = np.count_nonzero(matrix)\n",
    "    total_elements = matrix.size\n",
    "\n",
    "    nonzero_ratio = nonzero_elements / total_elements\n",
    "    zero_ratio = 1 - nonzero_ratio\n",
    "\n",
    "    print(f\"非零元素比例：{nonzero_ratio:.2%}\")\n",
    "    print(f\"零元素比例：{zero_ratio:.2%}\")\n",
    "\n",
    "calculate_sparsity(HG.H.to_dense().cpu().numpy())"
   ]
  },
  {
   "cell_type": "code",
   "execution_count": 12,
   "metadata": {},
   "outputs": [
    {
     "name": "stdout",
     "output_type": "stream",
     "text": [
      "[897.0, 903.0, 785.0, 810.0, 870.0, 468.0, 979.0, 1005.0, 777.0, 993.0, 858.0, 807.0, 925.0, 829.0, 923.0, 827.0, 977.0, 919.0, 754.0, 913.0, 763.0, 878.0, 878.0, 952.0, 920.0, 772.0, 541.0, 809.0, 171.0, 740.0, 971.0, 760.0, 766.0, 872.0, 704.0, 790.0, 705.0, 723.0, 960.0, 923.0, 762.0, 924.0, 704.0, 973.0, 847.0, 579.0, 772.0, 630.0, 747.0, 943.0, 902.0, 962.0, 770.0, 691.0, 881.0, 866.0, 853.0, 702.0, 816.0, 892.0, 870.0, 682.0, 879.0, 801.0, 832.0, 699.0, 985.0, 769.0, 884.0, 1025.0, 835.0, 787.0, 759.0, 673.0, 1029.0, 941.0, 176.0, 706.0, 605.0, 770.0, 724.0, 852.0, 742.0, 713.0, 763.0, 809.0, 717.0, 827.0, 835.0, 716.0, 691.0, 751.0, 663.0, 897.0, 846.0, 199.0, 803.0, 835.0, 804.0, 749.0, 663.0, 736.0, 770.0, 777.0, 672.0, 677.0, 854.0, 676.0, 837.0, 910.0, 644.0, 775.0, 990.0, 492.0, 819.0, 204.0, 657.0, 823.0, 580.0, 686.0, 643.0, 731.0, 762.0, 625.0, 838.0, 876.0, 817.0, 731.0, 776.0, 749.0, 794.0, 869.0, 819.0, 752.0, 714.0, 708.0, 515.0, 883.0, 708.0, 807.0, 751.0, 233.0, 893.0, 640.0, 681.0, 725.0, 745.0, 757.0, 614.0, 634.0, 705.0, 746.0, 748.0, 605.0, 647.0, 620.0, 820.0, 674.0, 707.0, 640.0, 736.0, 837.0, 787.0, 783.0, 770.0, 594.0, 765.0, 766.0, 759.0, 530.0, 806.0, 771.0, 844.0, 628.0, 811.0, 682.0, 735.0, 737.0, 580.0, 636.0, 908.0, 665.0, 620.0, 801.0, 714.0, 775.0, 688.0, 618.0, 800.0, 554.0, 764.0, 772.0, 810.0, 737.0, 655.0, 629.0, 929.0, 745.0, 639.0, 621.0, 782.0, 675.0, 676.0, 598.0, 726.0, 676.0, 716.0, 595.0, 904.0, 637.0, 694.0, 718.0, 705.0, 843.0, 804.0, 605.0, 722.0, 636.0, 706.0, 742.0, 525.0, 472.0, 692.0, 765.0, 695.0, 612.0, 741.0, 462.0, 733.0, 761.0, 529.0, 681.0, 719.0, 613.0, 717.0, 704.0, 644.0, 759.0, 715.0, 543.0, 712.0, 704.0, 646.0, 861.0, 639.0, 528.0, 725.0, 836.0, 631.0, 644.0, 657.0, 741.0, 691.0, 588.0, 768.0, 747.0, 190.0, 524.0, 687.0, 584.0, 742.0, 498.0, 703.0, 737.0, 570.0, 603.0, 710.0, 627.0, 824.0, 684.0, 752.0, 587.0, 496.0, 770.0, 804.0, 751.0, 886.0, 577.0, 653.0, 681.0, 850.0, 619.0, 703.0, 903.0, 799.0, 567.0, 641.0, 747.0, 592.0, 482.0, 643.0, 565.0, 155.0, 569.0, 553.0, 504.0, 749.0, 649.0, 570.0, 494.0, 588.0, 658.0, 618.0, 797.0, 554.0, 734.0, 645.0, 615.0, 549.0, 818.0, 523.0, 730.0, 708.0, 674.0, 584.0, 481.0, 532.0, 567.0, 627.0, 790.0, 637.0, 174.0, 690.0, 573.0, 587.0, 627.0, 609.0, 815.0, 511.0, 597.0, 708.0, 543.0, 522.0, 568.0, 524.0, 714.0, 685.0, 503.0, 700.0, 537.0, 590.0, 548.0, 707.0, 543.0, 731.0, 434.0, 569.0, 505.0, 628.0, 616.0, 707.0, 697.0, 542.0, 526.0, 740.0, 476.0, 784.0, 559.0, 555.0, 572.0, 346.0, 581.0, 276.0, 556.0, 471.0, 624.0, 736.0, 727.0, 615.0, 560.0, 699.0, 618.0, 778.0, 599.0, 522.0, 554.0, 536.0, 582.0, 594.0, 555.0, 634.0, 593.0, 647.0, 670.0, 511.0, 447.0, 580.0, 645.0, 773.0, 483.0, 663.0, 556.0, 459.0, 552.0, 596.0, 588.0, 542.0, 545.0, 511.0, 511.0, 552.0, 207.0, 687.0, 608.0, 551.0, 589.0, 425.0, 624.0, 522.0, 569.0, 614.0, 591.0, 491.0, 585.0, 620.0, 599.0, 586.0, 457.0, 603.0, 526.0, 438.0, 371.0, 531.0, 508.0, 651.0, 553.0, 419.0, 666.0, 591.0, 425.0, 618.0, 468.0, 521.0, 465.0, 650.0, 512.0, 463.0, 543.0, 524.0, 512.0, 554.0, 512.0, 449.0, 501.0, 403.0, 619.0, 548.0, 473.0, 434.0, 239.0, 507.0, 528.0, 458.0, 392.0, 571.0, 538.0, 519.0, 339.0, 473.0, 414.0, 478.0, 462.0, 551.0, 550.0, 608.0, 522.0, 514.0, 462.0, 470.0, 437.0, 379.0, 536.0, 514.0, 408.0, 503.0, 477.0, 443.0, 444.0, 615.0, 462.0, 389.0, 556.0, 515.0, 564.0, 452.0, 500.0, 505.0, 595.0, 460.0, 529.0, 450.0, 502.0, 629.0, 468.0, 506.0, 457.0, 490.0, 445.0, 445.0, 496.0, 484.0, 431.0, 432.0, 440.0, 370.0, 399.0, 481.0, 377.0, 330.0, 409.0, 447.0, 502.0, 483.0, 507.0, 440.0, 527.0, 432.0, 449.0, 444.0, 325.0, 360.0, 406.0, 450.0, 445.0, 456.0, 382.0, 417.0, 477.0, 312.0, 413.0, 411.0, 402.0, 460.0, 508.0, 414.0, 466.0, 506.0, 486.0, 478.0, 404.0, 384.0, 363.0, 323.0, 329.0, 458.0, 413.0, 421.0, 141.0, 490.0, 462.0, 295.0, 198.0, 429.0, 421.0, 489.0, 386.0, 419.0, 335.0, 393.0, 477.0, 400.0, 403.0, 481.0, 436.0, 265.0, 406.0, 404.0, 428.0, 374.0, 412.0, 405.0, 360.0, 469.0, 506.0, 144.0, 401.0, 430.0, 406.0, 331.0, 462.0, 398.0, 386.0, 405.0, 385.0, 354.0, 371.0, 202.0, 320.0, 449.0, 381.0, 293.0, 288.0, 403.0, 397.0, 305.0, 336.0, 355.0, 203.0, 409.0, 403.0, 289.0, 203.0, 322.0, 323.0, 375.0, 441.0, 407.0, 274.0, 394.0, 367.0, 350.0, 386.0, 288.0, 428.0, 326.0, 313.0, 303.0, 278.0, 400.0, 444.0, 334.0, 311.0, 320.0, 339.0, 370.0, 326.0, 349.0, 280.0, 304.0, 302.0, 281.0, 369.0, 353.0, 333.0, 352.0, 310.0, 246.0, 322.0, 419.0, 389.0, 225.0, 275.0, 322.0, 374.0, 310.0, 233.0, 394.0, 286.0, 354.0, 270.0, 292.0, 332.0, 321.0, 225.0, 184.0, 289.0, 264.0, 336.0, 246.0, 261.0, 279.0, 385.0, 242.0, 298.0, 342.0, 301.0, 272.0, 299.0, 313.0, 271.0, 349.0, 248.0, 256.0, 303.0, 316.0, 258.0, 264.0, 310.0, 282.0, 286.0, 219.0, 199.0, 358.0, 211.0, 312.0, 327.0, 266.0, 245.0, 322.0, 223.0, 231.0, 247.0, 257.0, 258.0, 202.0, 210.0, 282.0, 254.0, 322.0, 285.0, 233.0, 242.0, 315.0, 229.0, 359.0, 292.0, 305.0, 254.0, 260.0, 254.0, 240.0, 232.0, 241.0, 233.0, 298.0, 209.0, 291.0, 233.0, 285.0, 279.0, 217.0, 274.0, 242.0, 180.0, 316.0, 172.0, 325.0, 268.0, 194.0, 294.0, 229.0, 262.0, 242.0, 258.0, 253.0, 224.0, 337.0, 233.0, 290.0, 207.0, 205.0, 279.0, 185.0, 215.0, 179.0, 278.0, 262.0, 278.0, 249.0, 193.0, 212.0, 233.0, 218.0, 216.0, 227.0, 293.0, 236.0, 187.0, 184.0, 263.0, 213.0, 246.0, 284.0, 212.0, 222.0, 204.0, 248.0, 249.0, 216.0, 187.0, 217.0, 214.0, 272.0, 200.0, 164.0, 195.0, 162.0, 254.0, 192.0, 213.0, 169.0, 202.0, 201.0, 180.0, 150.0, 218.0, 292.0, 155.0, 195.0, 162.0, 236.0, 140.0, 194.0, 153.0, 163.0, 242.0, 242.0, 189.0, 159.0, 164.0, 222.0, 219.0, 152.0, 175.0, 155.0, 166.0, 157.0, 128.0, 162.0, 145.0, 161.0, 151.0, 137.0, 175.0, 138.0, 111.0, 180.0, 223.0, 125.0, 181.0, 146.0, 191.0, 145.0, 140.0, 206.0, 166.0, 148.0, 157.0, 183.0, 159.0, 144.0, 127.0, 206.0, 135.0, 197.0, 138.0, 145.0, 204.0, 147.0, 161.0, 140.0, 143.0, 127.0, 101.0, 100.0, 138.0, 225.0, 108.0, 174.0, 193.0, 209.0, 181.0, 148.0, 224.0, 105.0, 147.0, 206.0, 182.0, 144.0, 106.0, 117.0, 144.0, 129.0, 87.0, 197.0, 116.0, 95.0, 157.0, 172.0, 93.0, 152.0, 92.0, 129.0, 103.0, 86.0, 141.0, 108.0, 139.0, 138.0, 107.0, 133.0, 177.0, 106.0, 163.0, 109.0, 131.0, 130.0, 78.0, 136.0, 180.0, 100.0, 109.0, 150.0, 173.0, 111.0, 81.0, 141.0, 91.0, 106.0, 190.0, 75.0, 85.0, 86.0, 128.0, 96.0, 128.0, 207.0, 95.0, 116.0, 155.0, 148.0, 121.0, 86.0, 165.0, 116.0, 89.0, 72.0, 161.0, 66.0, 39.0, 60.0, 145.0, 106.0, 97.0, 155.0, 43.0, 59.0, 68.0, 132.0, 69.0, 80.0, 124.0, 69.0, 43.0, 53.0, 40.0, 196.0, 70.0, 70.0, 108.0, 61.0, 77.0, 49.0, 70.0, 61.0, 129.0, 109.0, 43.0, 85.0, 39.0, 179.0, 96.0, 76.0, 95.0, 97.0, 111.0, 149.0, 70.0, 26.0, 72.0, 75.0, 49.0, 105.0, 80.0, 35.0, 16.0, 45.0, 17.0, 124.0, 94.0, 20.0, 37.0, 53.0, 26.0, 31.0, 29.0, 22.0, 22.0, 76.0, 209.0, 40.0, 98.0, 35.0, 24.0, 30.0, 72.0, 31.0, 109.0, 10.0, 22.0, 115.0, 7.0, 72.0, 105.0, 10.0, 2.0, 11.0, 34.0, 8.0, 148.0]\n",
      "529.0\n"
     ]
    }
   ],
   "source": [
    "degree_values = test_HG.deg_v\n",
    "print(degree_values)\n",
    "print(degree_values[489])"
   ]
  },
  {
   "cell_type": "code",
   "execution_count": 9,
   "metadata": {},
   "outputs": [],
   "source": [
    "import matplotlib.pyplot as plt"
   ]
  },
  {
   "cell_type": "code",
   "execution_count": 18,
   "metadata": {},
   "outputs": [
    {
     "data": {
      "image/png": "[encoded data removed]",
      "text/plain": [
       "<Figure size 640x480 with 1 Axes>"
      ]
     },
     "metadata": {},
     "output_type": "display_data"
    }
   ],
   "source": [
    "# 绘制节点度数的柱状图\n",
    "plt.bar(range(len(degree_values)), degree_values)\n",
    "plt.xticks(range(len(degree_values)), range(len(degree_values)))\n",
    "plt.xlabel('Node Index')\n",
    "plt.ylabel('Degree')\n",
    "plt.title('Degree Distribution')\n",
    "plt.show()"
   ]
  }
 ],
 "metadata": {
  "kernelspec": {
   "display_name": "DHG",
   "language": "python",
   "name": "python3"
  },
  "language_info": {
   "codemirror_mode": {
    "name": "ipython",
    "version": 3
   },
   "file_extension": ".py",
   "mimetype": "text/x-python",
   "name": "python",
   "nbconvert_exporter": "python",
   "pygments_lexer": "ipython3",
   "version": "3.10.12"
  },
  "orig_nbformat": 4
 },
 "nbformat": 4,
 "nbformat_minor": 2
}
