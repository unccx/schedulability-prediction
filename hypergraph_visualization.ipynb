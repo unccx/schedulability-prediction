{
 "cells": [
  {
   "cell_type": "code",
   "execution_count": 80,
   "metadata": {},
   "outputs": [],
   "source": [
    "import xgi\n",
    "import random\n",
    "import pandas as pd\n",
    "import numpy as np\n",
    "import matplotlib.pyplot as plt\n",
    "import itertools\n",
    "import csv"
   ]
  },
  {
   "cell_type": "code",
   "execution_count": 81,
   "metadata": {},
   "outputs": [
    {
     "data": {
      "text/plain": [
       "[[0, 1, 2, 3, 4, 5, 6, 7, 8, 9, 10, 11, 12, 13, 14, 15],\n",
       " [0, 1, 2, 3, 4, 5, 6, 7, 8, 16],\n",
       " [0, 1, 2, 3, 4, 5, 6, 7, 9, 16],\n",
       " [0, 1, 2, 3, 4, 5, 6, 8, 9, 16],\n",
       " [0, 1, 7, 8, 9, 16],\n",
       " [0, 1, 3, 7, 8, 9, 16],\n",
       " [0, 1, 4, 7, 8, 9, 16],\n",
       " [0, 1, 3, 4, 7, 8, 9, 16],\n",
       " [0, 1, 5, 7, 8, 9, 16],\n",
       " [0, 1, 3, 5, 7, 8, 9, 16],\n",
       " [0, 1, 4, 5, 7, 8, 9, 16],\n",
       " [0, 1, 3, 4, 5, 7, 8, 9, 16],\n",
       " [0, 1, 2, 3, 4, 5, 6, 7, 10, 16],\n",
       " [0, 1, 2, 3, 4, 5, 6, 8, 10, 16],\n",
       " [0, 1, 7, 8, 10, 16],\n",
       " [0, 1, 3, 7, 8, 10, 16],\n",
       " [0, 1, 4, 7, 8, 10, 16],\n",
       " [0, 1, 3, 4, 7, 8, 10, 16],\n",
       " [0, 1, 5, 7, 8, 10, 16],\n",
       " [0, 1, 3, 5, 7, 8, 10, 16],\n",
       " [0, 1, 4, 5, 7, 8, 10, 16],\n",
       " [0, 1, 3, 4, 5, 7, 8, 10, 16],\n",
       " [0, 1, 2, 3, 4, 5, 6, 9, 10, 16],\n",
       " [16, 9, 10, 7],\n",
       " [0, 1, 2, 3, 4, 5, 6, 11, 16],\n",
       " [0, 1, 2, 3, 4, 5, 7, 11, 16],\n",
       " [0, 1, 2, 3, 4, 6, 7, 11, 16],\n",
       " [0, 1, 5, 6, 7, 11, 16],\n",
       " [0, 1, 3, 5, 6, 7, 11, 16],\n",
       " [0, 1, 4, 5, 6, 7, 11, 16],\n",
       " [0, 1, 3, 4, 5, 6, 7, 11, 16],\n",
       " [0, 1, 2, 3, 4, 5, 8, 11, 16],\n",
       " [0, 1, 6, 8, 11, 16],\n",
       " [0, 1, 3, 6, 8, 11, 16],\n",
       " [0, 1, 4, 6, 8, 11, 16],\n",
       " [0, 1, 3, 4, 6, 8, 11, 16],\n",
       " [0, 1, 5, 6, 8, 11, 16],\n",
       " [0, 1, 3, 5, 6, 8, 11, 16],\n",
       " [0, 1, 4, 5, 6, 8, 11, 16],\n",
       " [0, 1, 3, 4, 5, 6, 8, 11, 16],\n",
       " [8, 16, 11, 7],\n",
       " [0, 1, 9, 11, 16],\n",
       " [16, 9, 2, 11],\n",
       " [0, 1, 3, 9, 11, 16],\n",
       " [0, 1, 4, 9, 11, 16],\n",
       " [0, 1, 3, 4, 9, 11, 16],\n",
       " [0, 1, 5, 9, 11, 16],\n",
       " [0, 1, 3, 5, 9, 11, 16],\n",
       " [0, 1, 4, 5, 9, 11, 16],\n",
       " [0, 1, 3, 4, 5, 9, 11, 16],\n",
       " [16, 9, 11, 6],\n",
       " [16, 9, 11, 7],\n",
       " [0, 1, 10, 11, 16],\n",
       " [0, 2, 10, 11, 16],\n",
       " [0, 1, 3, 10, 11, 16],\n",
       " [0, 2, 3, 10, 11, 16],\n",
       " [0, 1, 4, 10, 11, 16],\n",
       " [0, 1, 3, 4, 10, 11, 16],\n",
       " [0, 1, 5, 10, 11, 16],\n",
       " [0, 2, 5, 10, 11, 16],\n",
       " [0, 1, 3, 5, 10, 11, 16],\n",
       " [0, 2, 3, 5, 10, 11, 16],\n",
       " [0, 1, 4, 5, 10, 11, 16],\n",
       " [0, 1, 3, 4, 5, 10, 11, 16],\n",
       " [0, 1, 6, 10, 11, 16],\n",
       " [0, 1, 3, 6, 10, 11, 16],\n",
       " [0, 1, 5, 6, 10, 11, 16],\n",
       " [0, 1, 3, 5, 6, 10, 11, 16],\n",
       " [16, 10, 11, 7],\n",
       " [0, 1, 2, 3, 4, 5, 6, 12, 16],\n",
       " [0, 1, 2, 3, 4, 5, 7, 12, 16],\n",
       " [0, 1, 6, 7, 12, 16],\n",
       " [0, 1, 3, 6, 7, 12, 16],\n",
       " [0, 4, 6, 7, 12, 16],\n",
       " [0, 3, 4, 6, 7, 12, 16],\n",
       " [0, 1, 5, 6, 7, 12, 16],\n",
       " [0, 1, 3, 5, 6, 7, 12, 16],\n",
       " [0, 1, 2, 3, 8, 12, 16],\n",
       " [0, 1, 4, 8, 12, 16],\n",
       " [0, 2, 4, 8, 12, 16],\n",
       " [0, 1, 3, 4, 8, 12, 16],\n",
       " [0, 2, 3, 4, 8, 12, 16],\n",
       " [0, 1, 2, 3, 5, 8, 12, 16],\n",
       " [0, 1, 4, 5, 8, 12, 16],\n",
       " [0, 2, 4, 5, 8, 12, 16],\n",
       " [0, 1, 3, 4, 5, 8, 12, 16],\n",
       " [0, 2, 3, 4, 5, 8, 12, 16],\n",
       " [16, 9, 12],\n",
       " [16, 9, 3, 12],\n",
       " [16, 9, 4, 12],\n",
       " [16, 9, 12, 5],\n",
       " [3, 5, 9, 12, 16],\n",
       " [0, 1, 10, 12, 16],\n",
       " [0, 1, 3, 10, 12, 16],\n",
       " [0, 1, 4, 10, 12, 16],\n",
       " [0, 1, 3, 4, 10, 12, 16],\n",
       " [0, 1, 5, 10, 12, 16],\n",
       " [0, 1, 3, 5, 10, 12, 16],\n",
       " [0, 1, 4, 5, 10, 12, 16],\n",
       " [0, 1, 3, 4, 5, 10, 12, 16],\n",
       " [16, 11, 12],\n",
       " [16, 11, 4, 12],\n",
       " [0, 1, 2, 3, 4, 5, 6, 13, 16],\n",
       " [0, 1, 2, 3, 4, 5, 7, 13, 16],\n",
       " [0, 6, 7, 13, 16],\n",
       " [0, 3, 6, 7, 13, 16],\n",
       " [0, 5, 6, 7, 13, 16],\n",
       " [0, 3, 5, 6, 7, 13, 16],\n",
       " [0, 1, 2, 3, 4, 5, 8, 13, 16],\n",
       " [8, 16, 13, 6],\n",
       " [0, 1, 10, 13, 16],\n",
       " [16, 2, 10, 13],\n",
       " [1, 2, 10, 13, 16],\n",
       " [0, 1, 3, 10, 13, 16],\n",
       " [2, 3, 10, 13, 16],\n",
       " [1, 2, 3, 10, 13, 16],\n",
       " [0, 1, 4, 10, 13, 16],\n",
       " [0, 1, 3, 4, 10, 13, 16],\n",
       " [0, 1, 5, 10, 13, 16],\n",
       " [0, 1, 3, 5, 10, 13, 16],\n",
       " [0, 1, 4, 5, 10, 13, 16],\n",
       " [0, 1, 3, 4, 5, 10, 13, 16],\n",
       " [0, 1, 2, 3, 4, 5, 6, 14, 16],\n",
       " [0, 1, 2, 3, 4, 5, 7, 14, 16],\n",
       " [16, 14, 6, 7],\n",
       " [0, 1, 8, 14, 16],\n",
       " [8, 16, 2, 14],\n",
       " [0, 1, 3, 8, 14, 16],\n",
       " [0, 1, 4, 8, 14, 16],\n",
       " [0, 1, 3, 4, 8, 14, 16],\n",
       " [0, 1, 5, 8, 14, 16],\n",
       " [0, 1, 3, 5, 8, 14, 16],\n",
       " [0, 1, 4, 5, 8, 14, 16],\n",
       " [0, 1, 3, 4, 5, 8, 14, 16],\n",
       " [16, 13, 14],\n",
       " [0, 1, 16, 15],\n",
       " [0, 16, 2, 15],\n",
       " [0, 1, 3, 15, 16],\n",
       " [16, 2, 3, 15],\n",
       " [0, 1, 4, 15, 16],\n",
       " [0, 1, 3, 4, 15, 16],\n",
       " [0, 1, 5, 15, 16],\n",
       " [0, 1, 3, 5, 15, 16],\n",
       " [0, 1, 4, 5, 15, 16],\n",
       " [0, 1, 3, 4, 5, 15, 16],\n",
       " [0, 1, 2, 3, 4, 5, 6, 7, 8, 9, 10, 11, 12, 13, 17],\n",
       " [0, 1, 2, 3, 4, 5, 6, 7, 8, 9, 10, 11, 12, 14, 17],\n",
       " [0, 1, 2, 3, 4, 5, 6, 7, 8, 9, 10, 11, 13, 14, 17],\n",
       " [0, 1, 2, 3, 4, 5, 6, 7, 8, 9, 10, 12, 13, 14, 17],\n",
       " [0, 1, 2, 3, 4, 5, 6, 7, 8, 9, 11, 12, 13, 14, 17],\n",
       " [0, 1, 2, 3, 4, 5, 6, 7, 8, 10, 11, 12, 13, 14, 17],\n",
       " [0, 1, 2, 3, 4, 5, 6, 7, 9, 10, 11, 12, 13, 14, 17],\n",
       " [0, 1, 2, 3, 4, 5, 6, 8, 9, 10, 11, 12, 13, 14, 17],\n",
       " [0, 1, 2, 3, 4, 5, 6, 7, 15, 17],\n",
       " [0, 8, 17, 15],\n",
       " [8, 1, 17, 15],\n",
       " [0, 1, 2, 3, 4, 5, 6, 7, 9, 15, 17],\n",
       " [8, 9, 17, 15],\n",
       " [0, 1, 2, 3, 4, 5, 6, 7, 10, 15, 17],\n",
       " [0, 1, 2, 3, 4, 5, 6, 7, 9, 10, 15, 17],\n",
       " [0, 1, 2, 3, 4, 5, 6, 7, 11, 15, 17],\n",
       " [0, 1, 2, 3, 4, 5, 6, 7, 9, 11, 15, 17],\n",
       " [0, 1, 2, 3, 4, 5, 6, 7, 10, 11, 15, 17],\n",
       " [0, 1, 2, 3, 4, 5, 6, 7, 9, 10, 11, 15, 17],\n",
       " [0, 1, 2, 3, 4, 5, 16, 17],\n",
       " [16, 17, 7],\n",
       " [0, 1, 2, 3, 4, 5, 6, 18],\n",
       " [0, 1, 2, 3, 7, 18],\n",
       " [0, 1, 2, 4, 7, 18],\n",
       " [0, 1, 3, 4, 7, 18],\n",
       " [0, 2, 3, 4, 7, 18],\n",
       " [0, 1, 2, 3, 5, 7, 18],\n",
       " [0, 1, 4, 5, 7, 18],\n",
       " [0, 1, 3, 4, 5, 7, 18],\n",
       " [0, 1, 2, 6, 7, 18],\n",
       " [0, 1, 3, 6, 7, 18],\n",
       " [0, 1, 4, 6, 7, 18],\n",
       " [0, 3, 4, 6, 7, 18],\n",
       " [0, 1, 5, 6, 7, 18],\n",
       " [3, 5, 6, 7, 18],\n",
       " [0, 1, 2, 8, 18],\n",
       " [0, 1, 3, 8, 18],\n",
       " [0, 2, 3, 8, 18],\n",
       " [0, 1, 4, 8, 18],\n",
       " [0, 1, 3, 4, 8, 18],\n",
       " [0, 1, 5, 8, 18],\n",
       " [8, 2, 18, 5],\n",
       " [0, 1, 3, 5, 8, 18],\n",
       " [0, 4, 5, 8, 18],\n",
       " [0, 1, 6, 8, 18],\n",
       " [8, 18, 3, 6],\n",
       " [8, 18, 5, 6],\n",
       " [8, 18, 7],\n",
       " [0, 1, 2, 9, 18],\n",
       " [0, 1, 3, 9, 18],\n",
       " [0, 2, 3, 9, 18],\n",
       " [0, 1, 4, 9, 18],\n",
       " [9, 2, 18, 4],\n",
       " [0, 3, 4, 9, 18],\n",
       " [0, 1, 5, 9, 18],\n",
       " [0, 2, 5, 9, 18],\n",
       " [0, 1, 3, 5, 9, 18],\n",
       " [0, 4, 5, 9, 18],\n",
       " [0, 9, 18, 6],\n",
       " [9, 18, 3, 6],\n",
       " [0, 9, 18, 7],\n",
       " [9, 18, 3, 7],\n",
       " [9, 18, 5, 7],\n",
       " [0, 1, 2, 10, 18],\n",
       " [0, 18, 10, 3],\n",
       " [18, 1, 10, 3],\n",
       " [0, 10, 18, 4],\n",
       " [1, 10, 18, 4],\n",
       " [18, 10, 3, 4],\n",
       " [0, 10, 18, 5],\n",
       " [1, 10, 18, 5],\n",
       " [18, 10, 3, 5],\n",
       " [10, 18, 6],\n",
       " [10, 18, 7],\n",
       " [0, 1, 18, 11],\n",
       " [0, 18, 2, 11],\n",
       " [0, 11, 18, 3],\n",
       " [18, 11, 4],\n",
       " [18, 11, 5],\n",
       " [11, 18, 10],\n",
       " [0, 18, 12],\n",
       " [0, 1, 18, 13],\n",
       " [0, 2, 18, 13],\n",
       " [1, 2, 18, 13],\n",
       " [0, 18, 3, 13],\n",
       " [0, 13, 18, 5],\n",
       " [1, 13, 18, 5],\n",
       " [18, 13, 3, 5],\n",
       " [18, 13, 7],\n",
       " [0, 18, 14],\n",
       " [1, 18, 14]]"
      ]
     },
     "execution_count": 81,
     "metadata": {},
     "output_type": "execute_result"
    }
   ],
   "source": [
    "hyperedge_list = []\n",
    "with open(\"data_9_19_1231/hyperedges.csv\", \"r\") as file:\n",
    "    reader = csv.reader(file)\n",
    "    for row in reader:\n",
    "        # 读取每个超边的顶点列表，并将它们添加到 hyperedge_list 中\n",
    "        hyperedge_list.append(row)\n",
    "\n",
    "hyperedge_list = [[int(v) for v in edge] for edge in hyperedge_list]\n",
    "\n",
    "hyperedge_list"
   ]
  },
  {
   "cell_type": "code",
   "execution_count": 82,
   "metadata": {},
   "outputs": [
    {
     "name": "stdout",
     "output_type": "stream",
     "text": [
      "The hypergraph has 19 nodes and 236 edges\n",
      "[[1 1 1 ... 0 1 0]\n",
      " [1 1 1 ... 0 0 1]\n",
      " [1 1 1 ... 0 0 0]\n",
      " ...\n",
      " [0 1 1 ... 0 0 0]\n",
      " [0 0 0 ... 0 0 0]\n",
      " [0 0 0 ... 1 1 1]]\n"
     ]
    }
   ],
   "source": [
    "H = xgi.Hypergraph(hyperedge_list)\n",
    "print(f\"The hypergraph has {H.num_nodes} nodes and {H.num_edges} edges\")\n",
    "I = xgi.incidence_matrix(H, sparse=False)\n",
    "print(I)\n"
   ]
  },
  {
   "cell_type": "code",
   "execution_count": 83,
   "metadata": {},
   "outputs": [
    {
     "name": "stdout",
     "output_type": "stream",
     "text": [
      "DE_lst: [16 10 10 10  6  7  7  8  7  8  8  9 10 10  6  7  7  8  7  8  8  9 10  4\n",
      "  9  9  9  7  8  8  9  9  6  7  7  8  7  8  8  9  4  5  4  6  6  7  6  7\n",
      "  7  8  4  4  5  5  6  6  6  7  6  6  7  7  7  8  6  7  7  8  4  9  9  6\n",
      "  7  6  7  7  8  7  6  6  7  7  8  7  7  8  8  3  4  4  4  5  5  6  6  7\n",
      "  6  7  7  8  3  4  9  9  5  6  6  7  9  4  5  4  5  6  5  6  6  7  6  7\n",
      "  7  8  9  9  4  5  4  6  6  7  6  7  7  8  3  4  4  5  4  5  6  5  6  6\n",
      "  7 15 15 15 15 15 15 15 15 10  4  4 11  4 11 12 11 12 12 13  8  3  8  6\n",
      "  6  6  6  7  6  7  6  6  6  6  6  5  5  5  5  5  6  5  4  6  5  5  4  4\n",
      "  3  5  5  5  5  4  5  5  5  6  5  4  4  4  4  4  5  4  4  4  4  4  4  4\n",
      "  4  3  3  4  4  4  3  3  3  3  4  4  4  4  4  4  4  3  3  3]\n"
     ]
    }
   ],
   "source": [
    "# 超边的度，即超边尺寸\n",
    "DE_lst = I.sum(axis=0)\n",
    "print(f\"DE_lst: {DE_lst}\")\n",
    "DE = np.diag(DE_lst)"
   ]
  },
  {
   "cell_type": "code",
   "execution_count": 84,
   "metadata": {},
   "outputs": [
    {
     "name": "stdout",
     "output_type": "stream",
     "text": [
      "weights: [32767, 511, 511, 511, 31, 63, 63, 127, 63, 127, 127, 255, 511, 511, 31, 63, 63, 127, 63, 127, 127, 255, 511, 7, 255, 255, 255, 63, 127, 127, 255, 255, 31, 63, 63, 127, 63, 127, 127, 255, 7, 15, 7, 31, 31, 63, 31, 63, 63, 127, 7, 7, 15, 15, 31, 31, 31, 63, 31, 31, 63, 63, 63, 127, 31, 63, 63, 127, 7, 255, 255, 31, 63, 31, 63, 63, 127, 63, 31, 31, 63, 63, 127, 63, 63, 127, 127, 3, 7, 7, 7, 15, 15, 31, 31, 63, 31, 63, 63, 127, 3, 7, 255, 255, 15, 31, 31, 63, 255, 7, 15, 7, 15, 31, 15, 31, 31, 63, 31, 63, 63, 127, 255, 255, 7, 15, 7, 31, 31, 63, 31, 63, 63, 127, 3, 7, 7, 15, 7, 15, 31, 15, 31, 31, 63, 16383, 16383, 16383, 16383, 16383, 16383, 16383, 16383, 511, 7, 7, 1023, 7, 1023, 2047, 1023, 2047, 2047, 4095, 127, 3, 127, 31, 31, 31, 31, 63, 31, 63, 31, 31, 31, 31, 31, 15, 15, 15, 15, 15, 31, 15, 7, 31, 15, 15, 7, 7, 3, 15, 15, 15, 15, 7, 15, 15, 15, 31, 15, 7, 7, 7, 7, 7, 15, 7, 7, 7, 7, 7, 7, 7, 7, 3, 3, 7, 7, 7, 3, 3, 3, 3, 7, 7, 7, 7, 7, 7, 7, 3, 3, 3]\n"
     ]
    },
    {
     "data": {
      "text/plain": [
       "array([191813, 191004, 184794, 189240, 188492, 188868, 184582, 167393,\n",
       "       153474, 159740, 160907, 160455, 149570, 148907, 148405,  46826,\n",
       "        13366, 145031,   1130])"
      ]
     },
     "execution_count": 84,
     "metadata": {},
     "output_type": "execute_result"
    }
   ],
   "source": [
    "weights = [2**(x-1) - 1 for x in DE_lst]\n",
    "print(f\"weights: {weights}\")\n",
    "W = np.diag(weights)\n",
    "\n",
    "weighted_node_degree = np.dot(I, weights)\n",
    "weighted_node_degree"
   ]
  },
  {
   "cell_type": "code",
   "execution_count": 85,
   "metadata": {},
   "outputs": [
    {
     "data": {
      "text/plain": [
       "<Axes: >"
      ]
     },
     "execution_count": 85,
     "metadata": {},
     "output_type": "execute_result"
    },
    {
     "data": {
      "image/png": "[encoded data removed]",
      "text/plain": [
       "<Figure size 640x480 with 1 Axes>"
      ]
     },
     "metadata": {},
     "output_type": "display_data"
    }
   ],
   "source": [
    "\n",
    "pos = xgi.barycenter_spring_layout(H)\n",
    "xgi.draw(\n",
    "    H,\n",
    "    pos,\n",
    "    node_labels=True,\n",
    "    node_size=H.nodes.degree,\n",
    "    node_lw=H.nodes.degree,\n",
    "    node_fc=H.nodes.degree,\n",
    ")\n",
    "\n",
    "# pos_spiral = xgi.spiral_layout(H)\n",
    "# xgi.draw(H, pos=pos_spiral, node_labels=True)"
   ]
  },
  {
   "cell_type": "code",
   "execution_count": 86,
   "metadata": {},
   "outputs": [
    {
     "data": {
      "text/plain": [
       "{0: 187,\n",
       " 1: 160,\n",
       " 2: 70,\n",
       " 3: 120,\n",
       " 4: 104,\n",
       " 5: 112,\n",
       " 6: 70,\n",
       " 7: 79,\n",
       " 8: 74,\n",
       " 9: 56,\n",
       " 10: 73,\n",
       " 11: 65,\n",
       " 12: 42,\n",
       " 13: 37,\n",
       " 14: 23,\n",
       " 15: 22,\n",
       " 16: 146,\n",
       " 17: 21,\n",
       " 18: 70}"
      ]
     },
     "execution_count": 86,
     "metadata": {},
     "output_type": "execute_result"
    }
   ],
   "source": [
    "H.nodes.degree.asdict()"
   ]
  },
  {
   "cell_type": "code",
   "execution_count": 87,
   "metadata": {},
   "outputs": [
    {
     "data": {
      "image/png": "[encoded data removed]",
      "text/plain": [
       "<Figure size 640x480 with 1 Axes>"
      ]
     },
     "metadata": {},
     "output_type": "display_data"
    }
   ],
   "source": [
    "# 假设你已经有了表示每个节点度数的字典 degree_dict\n",
    "degree_values = H.nodes.degree.asdict().values()\n",
    "# degree_values = weighted_node_degree\n",
    "\n",
    "# # 绘制度数随节点序号变化的曲线图\n",
    "# plt.plot(range(len(degree_values)), H.nodes.degree.asdict().values())\n",
    "# plt.xlabel('Node Index')\n",
    "# plt.ylabel('Degree')\n",
    "# plt.title('Degree Distribution')\n",
    "# plt.show()\n",
    "\n",
    "# 绘制节点度数的柱状图\n",
    "plt.bar(range(len(degree_values)), degree_values)\n",
    "plt.xticks(range(len(degree_values)), range(len(degree_values)))\n",
    "plt.xlabel('Node Index')\n",
    "plt.ylabel('Degree')\n",
    "plt.title('Degree Distribution')\n",
    "plt.show()"
   ]
  },
  {
   "cell_type": "code",
   "execution_count": null,
   "metadata": {},
   "outputs": [],
   "source": []
  },
  {
   "cell_type": "code",
   "execution_count": null,
   "metadata": {},
   "outputs": [],
   "source": []
  }
 ],
 "metadata": {
  "kernelspec": {
   "display_name": "xgi",
   "language": "python",
   "name": "python3"
  },
  "language_info": {
   "codemirror_mode": {
    "name": "ipython",
    "version": 3
   },
   "file_extension": ".py",
   "mimetype": "text/x-python",
   "name": "python",
   "nbconvert_exporter": "python",
   "pygments_lexer": "ipython3",
   "version": "3.11.3"
  },
  "orig_nbformat": 4
 },
 "nbformat": 4,
 "nbformat_minor": 2
}
