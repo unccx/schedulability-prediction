{
 "cells": [
  {
   "cell_type": "code",
   "execution_count": null,
   "metadata": {},
   "outputs": [],
   "source": [
    "import xgi\n",
    "import random\n",
    "import pandas as pd\n",
    "import numpy as np\n",
    "import matplotlib.pyplot as plt\n",
    "import itertools\n",
    "import csv\n",
    "from pathlib import Path"
   ]
  },
  {
   "cell_type": "code",
   "execution_count": null,
   "metadata": {},
   "outputs": [],
   "source": [
    "hyperedge_list = []\n",
    "file_path: Path = Path(\"../EDF/data/data_s1026_p9_t1000_hs7_e5000/\")\n",
    "with open(file_path / \"hyperedges.csv\", \"r\") as file:\n",
    "    reader = csv.reader(file)\n",
    "    for row in reader:\n",
    "        # 读取每个超边的顶点列表，并将它们添加到 hyperedge_list 中\n",
    "        hyperedge_list.append(row)\n",
    "\n",
    "hyperedge_list = [[int(v) for v in edge] for edge in hyperedge_list]\n",
    "\n",
    "hyperedge_list"
   ]
  },
  {
   "cell_type": "code",
   "execution_count": null,
   "metadata": {},
   "outputs": [],
   "source": [
    "H = xgi.Hypergraph(hyperedge_list)\n",
    "print(f\"The hypergraph has {H.num_nodes} nodes and {H.num_edges} edges\")\n",
    "I = xgi.incidence_matrix(H, sparse=False)\n",
    "print(I)\n"
   ]
  },
  {
   "cell_type": "code",
   "execution_count": null,
   "metadata": {},
   "outputs": [],
   "source": [
    "# 超边的度，即超边尺寸\n",
    "DE_lst = I.sum(axis=0)\n",
    "print(f\"DE_lst: {DE_lst}\")\n",
    "DE = np.diag(DE_lst)"
   ]
  },
  {
   "cell_type": "code",
   "execution_count": null,
   "metadata": {},
   "outputs": [],
   "source": [
    "weights = [2**(x-1) - 1 for x in DE_lst]\n",
    "print(f\"weights: {weights}\")\n",
    "W = np.diag(weights)\n",
    "\n",
    "weighted_node_degree = np.dot(I, weights)\n",
    "weighted_node_degree"
   ]
  },
  {
   "cell_type": "code",
   "execution_count": null,
   "metadata": {},
   "outputs": [],
   "source": [
    "\n",
    "# pos = xgi.barycenter_spring_layout(H)\n",
    "# xgi.draw(\n",
    "#     H,\n",
    "#     pos,\n",
    "#     node_labels=True,\n",
    "#     node_size=H.nodes.degree,\n",
    "#     node_lw=H.nodes.degree,\n",
    "#     node_fc=H.nodes.degree,\n",
    "# )\n",
    "\n",
    "# pos_spiral = xgi.spiral_layout(H)\n",
    "# xgi.draw(H, pos=pos_spiral, node_labels=True)"
   ]
  },
  {
   "cell_type": "code",
   "execution_count": null,
   "metadata": {},
   "outputs": [],
   "source": [
    "H.nodes.degree.asdict()"
   ]
  },
  {
   "cell_type": "code",
   "execution_count": null,
   "metadata": {},
   "outputs": [],
   "source": [
    "# 假设你已经有了表示每个节点度数的字典 degree_dict\n",
    "degree_values = H.nodes.degree.asdict().values()\n",
    "# degree_values = weighted_node_degree\n",
    "\n",
    "# # 绘制度数随节点序号变化的曲线图\n",
    "# plt.plot(range(len(degree_values)), H.nodes.degree.asdict().values())\n",
    "# plt.xlabel('Node Index')\n",
    "# plt.ylabel('Degree')\n",
    "# plt.title('Degree Distribution')\n",
    "# plt.show()\n",
    "\n",
    "# 绘制节点度数的柱状图\n",
    "plt.bar(range(len(degree_values)), degree_values)\n",
    "plt.xticks(range(len(degree_values)), range(len(degree_values)))\n",
    "plt.xlabel('Node Index')\n",
    "plt.ylabel('Degree')\n",
    "plt.title('Degree Distribution')\n",
    "plt.show()"
   ]
  }
 ],
 "metadata": {
  "kernelspec": {
   "display_name": "xgi",
   "language": "python",
   "name": "python3"
  },
  "language_info": {
   "codemirror_mode": {
    "name": "ipython",
    "version": 3
   },
   "file_extension": ".py",
   "mimetype": "text/x-python",
   "name": "python",
   "nbconvert_exporter": "python",
   "pygments_lexer": "ipython3",
   "version": "3.11.3"
  },
  "orig_nbformat": 4
 },
 "nbformat": 4,
 "nbformat_minor": 2
}
